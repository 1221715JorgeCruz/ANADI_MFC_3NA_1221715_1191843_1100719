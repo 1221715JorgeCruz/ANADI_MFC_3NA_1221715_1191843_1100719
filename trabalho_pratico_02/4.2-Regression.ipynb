{
 "cells": [
  {
   "metadata": {},
   "cell_type": "markdown",
   "source": [
    "# 4.2 - Regressão\n",
    "#### Considere apenas os países SouthernEurope:"
   ],
   "id": "b7d3705fe76811be"
  },
  {
   "metadata": {},
   "cell_type": "markdown",
   "source": "#### 1. Crie um diagrama de correlação entre a variável Premature_Deaths e os restantes atributos e interprete.",
   "id": "cccc6f5056b4af5d"
  },
  {
   "metadata": {},
   "cell_type": "code",
   "outputs": [],
   "execution_count": null,
   "source": "",
   "id": "54e2085f9c6d7bc0"
  }
 ],
 "metadata": {
  "kernelspec": {
   "display_name": "Python 3",
   "language": "python",
   "name": "python3"
  },
  "language_info": {
   "codemirror_mode": {
    "name": "ipython",
    "version": 2
   },
   "file_extension": ".py",
   "mimetype": "text/x-python",
   "name": "python",
   "nbconvert_exporter": "python",
   "pygments_lexer": "ipython2",
   "version": "2.7.6"
  }
 },
 "nbformat": 4,
 "nbformat_minor": 5
}
