{
 "cells": [
  {
   "metadata": {},
   "cell_type": "code",
   "outputs": [],
   "execution_count": null,
   "source": [
    "import numpy as np\n",
    "import pandas as pd\n",
    "import matplotlib.pyplot as plt\n",
    "import seaborn as sns"
   ],
   "id": "dba76178b42945c7"
  },
  {
   "metadata": {},
   "cell_type": "code",
   "outputs": [],
   "execution_count": null,
   "source": [
    "df = pd.read_csv(\"AIRPOL_data.csv\", delimiter=';')\n",
    "df.info()"
   ],
   "id": "eea269a5cec8c683"
  },
  {
   "metadata": {},
   "cell_type": "code",
   "outputs": [],
   "execution_count": null,
   "source": [
    "toDrop = ['Unnamed: 8', 'Unnamed: 9', 'Unnamed: 10',\n",
    "          'Unnamed: 11', 'Unnamed: 12', 'Unnamed: 13',\n",
    "          'Unnamed: 14', 'Unnamed: 15']\n",
    "\n",
    "df.drop(columns=toDrop, axis=1, inplace = True)\n",
    "\n",
    "print(f\"Shape before deleting duplicates {df.shape}\")\n",
    "df = df.drop_duplicates()\n",
    "print(f\"Shape after deleting duplicates {df.shape}\")\n",
    "\n",
    "df.describe()"
   ],
   "id": "27d87260c58df38a"
  },
  {
   "metadata": {},
   "cell_type": "code",
   "outputs": [],
   "execution_count": null,
   "source": [
    "predictors= ['Country', 'NUTS_Code', 'Air_Pollutant', 'Affected_Population', 'Populated_Area[km2]', 'Air_Pollution_Average[ug/m3]']\n",
    "print(predictors)"
   ],
   "id": "bda17cb888db9663"
  },
  {
   "metadata": {},
   "cell_type": "markdown",
   "source": "#### Conversão de dados tipo string para float",
   "id": "9926c1823b081c7f"
  },
  {
   "metadata": {},
   "cell_type": "code",
   "outputs": [],
   "execution_count": null,
   "source": [
    "numeric_columns = ['Affected_Population', 'Populated_Area[km2]', 'Air_Pollution_Average[ug/m3]']\n",
    "for col in numeric_columns:\n",
    "    df[col] = df[col].str.replace(',', '.', regex=False).astype(float)"
   ],
   "id": "d69ff2c833ba66c7"
  },
  {
   "metadata": {},
   "cell_type": "markdown",
   "source": "#### Univariate Analysis for numerical variables",
   "id": "e61c86b2c2dc7fd6"
  },
  {
   "metadata": {},
   "cell_type": "code",
   "outputs": [],
   "execution_count": null,
   "source": [
    "fig, axe = plt.subplots(nrows = len(numeric_columns), ncols = 2, figsize = (12, 3*len(numeric_columns)))\n",
    "fig.suptitle('Histograms and boxplots for mean variables')\n",
    "for i, column in enumerate(numeric_columns):\n",
    "    sns.histplot(df[column], ax=axe[i, 0], kde=True)\n",
    "    axe[i, 0].set_title(f\"Histogram of {column}\")\n",
    "    axe[i, 0].set_xlabel(column)\n",
    "    axe[i, 0].set_ylabel(\"Frequency\")\n",
    "\n",
    "    sns.boxplot(y=df[column], ax=axe[i, 1])\n",
    "    axe[i, 1].set_title(f\"Boxplot of {column}\")\n",
    "    axe[i, 1].set_ylabel(column)\n",
    "\n",
    "\n",
    "plt.tight_layout(rect=[0,0,1,0.96])\n",
    "plt.show()"
   ],
   "id": "18fee460aca175fc"
  },
  {
   "metadata": {},
   "cell_type": "markdown",
   "source": "#### Univariate Analysis for discrete variables and its relation with numerical variables ",
   "id": "8fe1d026b005339"
  },
  {
   "metadata": {},
   "cell_type": "code",
   "outputs": [],
   "execution_count": null,
   "source": [
    "discrete_columns = ['Country', 'NUTS_Code', 'Air_Pollutant']\n",
    "\n",
    "fig, axes = plt.subplots(len(discrete_columns), 1, figsize=(12, 5 * len(discrete_columns)))\n",
    "fig.suptitle(\"Bar Plots for Categorical Variables\", fontsize=16)\n",
    "\n",
    "for i, col in enumerate(discrete_columns):\n",
    "    sns.countplot(data=df, x=col, ax=axes[i], order=df[col].value_counts().index[:20])  # top 20\n",
    "    axes[i].set_title(f\"Count of {col}\")\n",
    "    axes[i].tick_params(axis='x', rotation=45)\n",
    "\n",
    "plt.tight_layout(rect=[0, 0, 1, 0.96])\n",
    "plt.show()\n",
    "\n",
    "# Box plots of a numeric value grouped by categories\n",
    "\n",
    "for value in numeric_columns:\n",
    "\n",
    "    fig, axes = plt.subplots(nrows=1, ncols=len(discrete_columns), figsize=(6 * len(discrete_columns), 5))\n",
    "    fig.suptitle(f\"Box Plots of '{value}' by Categorical Variables\", fontsize=16)\n",
    "\n",
    "    for i, col in enumerate(discrete_columns):\n",
    "        sns.boxplot(data=df, x=col, y=value, ax=axes[i], order=df[col].value_counts().index[:20])\n",
    "        axes[i].set_title(f\"{value} by {col}\")\n",
    "        axes[i].tick_params(axis='x', rotation=45)\n",
    "\n",
    "    plt.tight_layout(rect=[0, 0, 1, 0.96])\n",
    "    plt.show()"
   ],
   "id": "eacafc5fa21ca121"
  },
  {
   "metadata": {},
   "cell_type": "markdown",
   "source": "#### Analysis of goal attributes",
   "id": "486f15985f6473b"
  },
  {
   "metadata": {},
   "cell_type": "code",
   "outputs": [],
   "execution_count": null,
   "source": [
    "#Outcome\n",
    "plt.figure(figsize=(12, 6))\n",
    "sns.countplot(data=df, x='Outcome', order=df['Outcome'].value_counts().index)\n",
    "plt.title(\"Distribuição de Outcome\")\n",
    "plt.xlabel(\"Outcome\")\n",
    "plt.ylabel(\"Frequência\")\n",
    "plt.xticks(rotation=45)\n",
    "plt.show()"
   ],
   "id": "c3afe6664cc87b43"
  },
  {
   "metadata": {},
   "cell_type": "code",
   "outputs": [],
   "execution_count": null,
   "source": [
    "fig, axes = plt.subplots(nrows=1, ncols=2, figsize=(14, 5))\n",
    "fig.suptitle(\"Distribuição da variável 'Value'\", fontsize=16)\n",
    "\n",
    "# Histograma\n",
    "sns.histplot(df['Value'], kde=True, bins=30, ax=axes[0])\n",
    "axes[0].set_title(\"Histograma\")\n",
    "axes[0].set_xscale('log')\n",
    "axes[0].set_xlabel(\"Value\")\n",
    "axes[0].set_ylabel(\"Frequência\")\n",
    "\n",
    "# Boxplot com escala logarítmica\n",
    "sns.boxplot(y=df['Value'], ax=axes[1])\n",
    "axes[1].set_title(\"Boxplot\")\n",
    "axes[1].set_ylabel(\"Value\")\n",
    "axes[1].set_yscale('log')\n",
    "\n",
    "plt.tight_layout(rect=[0, 0, 1, 0.95])\n",
    "plt.show()"
   ],
   "id": "1c1de7a09c975084"
  },
  {
   "metadata": {},
   "cell_type": "markdown",
   "source": "#### Bivariate Analysis",
   "id": "e60bb57d90971d3e"
  },
  {
   "metadata": {},
   "cell_type": "code",
   "outputs": [],
   "execution_count": null,
   "source": [
    "#numerical variables by outcome\n",
    "fig, axes = plt.subplots(nrows=1, ncols=len(numeric_columns), figsize=(6 * len(numeric_columns), 5))\n",
    "fig.suptitle(f\"Box Plots of numerical variables by Outcome\", fontsize=16)\n",
    "\n",
    "for i, col in enumerate(numeric_columns):\n",
    "    sns.boxplot(data=df, x='Outcome', y=col, ax=axes[i])\n",
    "    axes[i].set_title(f\"{value} by {col}\")\n",
    "    axes[i].tick_params(axis='x', rotation=90)\n",
    "\n",
    "plt.show()\n"
   ],
   "id": "58e40f879f0c844b"
  },
  {
   "metadata": {},
   "cell_type": "code",
   "outputs": [],
   "execution_count": null,
   "source": [
    "for col in discrete_columns:\n",
    "\n",
    "    ct = pd.crosstab(df[col], df['Outcome'])\n",
    "\n",
    "    # Plotar heatmap\n",
    "    plt.figure(figsize=(12, 6))\n",
    "    sns.heatmap(ct, annot=True, fmt='d', cmap='coolwarm')\n",
    "    plt.title(f\"Heatmap: {col} vs Outcome\")\n",
    "    plt.xlabel(\"Outcome\")\n",
    "    plt.ylabel(col)\n",
    "plt.show()"
   ],
   "id": "8513506a4acddede"
  },
  {
   "metadata": {},
   "cell_type": "code",
   "outputs": [],
   "execution_count": null,
   "source": [
    "# Dicionário de mapeamento de países para regiões\n",
    "country_region_map = {\n",
    "    'Austria': 'Western Europe',\n",
    "    'Belgium': 'Western Europe',\n",
    "    'France': 'Western Europe',\n",
    "    'Germany': 'Western Europe',\n",
    "    'Netherlands': 'Western Europe',\n",
    "    'Switzerland': 'Western Europe',\n",
    "    \n",
    "    'Poland': 'Eastern Europe',\n",
    "    'Czechia': 'Eastern Europe',\n",
    "    'Hungary': 'Eastern Europe',\n",
    "    \n",
    "    'Greece': 'Southern Europe',\n",
    "    'Spain': 'Southern Europe',\n",
    "    'Italy': 'Southern Europe',\n",
    "    'Portugal': 'Southern Europe',\n",
    "    \n",
    "    'Sweden': 'Northern Europe',\n",
    "    'Denmark': 'Northern Europe',\n",
    "    'Northern Europe': 'Northern Europe',\n",
    "    'Finland': 'Northern Europe'\n",
    "}\n",
    "\n",
    "df['Region'] = df['Country'].map(country_region_map)"
   ],
   "id": "1f17d5fea92bf718"
  }
 ],
 "metadata": {},
 "nbformat": 5,
 "nbformat_minor": 9
}
